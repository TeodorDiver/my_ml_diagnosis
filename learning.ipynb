{
 "cells": [
  {
   "cell_type": "code",
   "execution_count": 4,
   "id": "8b443b2d-3e5d-4b7c-8cb0-4bfaf7cb80c2",
   "metadata": {},
   "outputs": [],
   "source": [
    "import pandas as pd\n",
    "import numpy as np"
   ]
  },
  {
   "cell_type": "code",
   "execution_count": 5,
   "id": "30a5aee1-2c99-41ea-8350-8ccc22929f84",
   "metadata": {},
   "outputs": [],
   "source": [
    "df = pd.read_csv('bd.csv') # загружаем данные из файла dates.csv и записываем в переменную df"
   ]
  },
  {
   "cell_type": "code",
   "execution_count": 6,
   "id": "acf00690-bbeb-4d36-9289-56f39a3c9c3a",
   "metadata": {},
   "outputs": [
    {
     "data": {
      "text/html": [
       "<div>\n",
       "<style scoped>\n",
       "    .dataframe tbody tr th:only-of-type {\n",
       "        vertical-align: middle;\n",
       "    }\n",
       "\n",
       "    .dataframe tbody tr th {\n",
       "        vertical-align: top;\n",
       "    }\n",
       "\n",
       "    .dataframe thead th {\n",
       "        text-align: right;\n",
       "    }\n",
       "</style>\n",
       "<table border=\"1\" class=\"dataframe\">\n",
       "  <thead>\n",
       "    <tr style=\"text-align: right;\">\n",
       "      <th></th>\n",
       "      <th>shrm</th>\n",
       "      <th>bartel</th>\n",
       "      <th>rivermid</th>\n",
       "      <th>smart</th>\n",
       "      <th>mkf</th>\n",
       "    </tr>\n",
       "  </thead>\n",
       "  <tbody>\n",
       "    <tr>\n",
       "      <th>0</th>\n",
       "      <td>5</td>\n",
       "      <td>30</td>\n",
       "      <td>3</td>\n",
       "      <td>3</td>\n",
       "      <td>3</td>\n",
       "    </tr>\n",
       "    <tr>\n",
       "      <th>1</th>\n",
       "      <td>5</td>\n",
       "      <td>25</td>\n",
       "      <td>3</td>\n",
       "      <td>3</td>\n",
       "      <td>3</td>\n",
       "    </tr>\n",
       "    <tr>\n",
       "      <th>2</th>\n",
       "      <td>5</td>\n",
       "      <td>20</td>\n",
       "      <td>2</td>\n",
       "      <td>2</td>\n",
       "      <td>2</td>\n",
       "    </tr>\n",
       "    <tr>\n",
       "      <th>3</th>\n",
       "      <td>5</td>\n",
       "      <td>20</td>\n",
       "      <td>1</td>\n",
       "      <td>2</td>\n",
       "      <td>2</td>\n",
       "    </tr>\n",
       "    <tr>\n",
       "      <th>4</th>\n",
       "      <td>5</td>\n",
       "      <td>15</td>\n",
       "      <td>2</td>\n",
       "      <td>2</td>\n",
       "      <td>2</td>\n",
       "    </tr>\n",
       "  </tbody>\n",
       "</table>\n",
       "</div>"
      ],
      "text/plain": [
       "   shrm  bartel  rivermid  smart  mkf\n",
       "0     5      30         3      3    3\n",
       "1     5      25         3      3    3\n",
       "2     5      20         2      2    2\n",
       "3     5      20         1      2    2\n",
       "4     5      15         2      2    2"
      ]
     },
     "execution_count": 6,
     "metadata": {},
     "output_type": "execute_result"
    }
   ],
   "source": [
    "df.head() # первые пять строк таблицы"
   ]
  },
  {
   "cell_type": "code",
   "execution_count": 7,
   "id": "b9cf8975-f292-44a4-b14e-5a480d9b95b7",
   "metadata": {},
   "outputs": [],
   "source": [
    "from sklearn import tree #деревья решений\n",
    "from sklearn import metrics #метрики\n",
    "from sklearn.model_selection import train_test_split #сплитование выборки"
   ]
  },
  {
   "cell_type": "code",
   "execution_count": 8,
   "id": "7e25806b-db38-4742-91ba-24e1ab877831",
   "metadata": {},
   "outputs": [
    {
     "data": {
      "text/plain": [
       "Index(['shrm', 'bartel', 'rivermid', 'smart', 'mkf'], dtype='object')"
      ]
     },
     "execution_count": 8,
     "metadata": {},
     "output_type": "execute_result"
    }
   ],
   "source": [
    "df.columns # посмотрим, какие колонки есть в данных"
   ]
  },
  {
   "cell_type": "code",
   "execution_count": 9,
   "id": "fd7163f9-30d2-423e-94f1-8c4d9eff0cea",
   "metadata": {},
   "outputs": [],
   "source": [
    "X = df.drop(['shrm', 'bartel', 'rivermid', 'smart'], axis = 1) # то, с помощью чего предсказываем\n",
    "y = df['mkf'] # то, что предсказываем"
   ]
  },
  {
   "cell_type": "code",
   "execution_count": 10,
   "id": "4e7078a1-6a02-4607-8bad-25ab30ddfba8",
   "metadata": {},
   "outputs": [
    {
     "data": {
      "text/plain": [
       "mkf\n",
       "5    250\n",
       "7    250\n",
       "9    250\n",
       "4     75\n",
       "6     70\n",
       "8     70\n",
       "2     20\n",
       "1     20\n",
       "3     10\n",
       "Name: count, dtype: int64"
      ]
     },
     "execution_count": 10,
     "metadata": {},
     "output_type": "execute_result"
    }
   ],
   "source": [
    "y.value_counts()"
   ]
  },
  {
   "cell_type": "code",
   "execution_count": 11,
   "id": "af9a22c7-f156-47b8-9161-e6e50f2fb1a9",
   "metadata": {},
   "outputs": [
    {
     "name": "stdout",
     "output_type": "stream",
     "text": [
      "<class 'pandas.core.frame.DataFrame'>\n",
      "RangeIndex: 1015 entries, 0 to 1014\n",
      "Data columns (total 5 columns):\n",
      " #   Column    Non-Null Count  Dtype\n",
      "---  ------    --------------  -----\n",
      " 0   shrm      1015 non-null   int64\n",
      " 1   bartel    1015 non-null   int64\n",
      " 2   rivermid  1015 non-null   int64\n",
      " 3   smart     1015 non-null   int64\n",
      " 4   mkf       1015 non-null   int64\n",
      "dtypes: int64(5)\n",
      "memory usage: 39.8 KB\n"
     ]
    }
   ],
   "source": [
    "df.info()"
   ]
  },
  {
   "cell_type": "code",
   "execution_count": 12,
   "id": "99c8a23d-8f9e-4e52-888b-d2bd3918db3d",
   "metadata": {},
   "outputs": [],
   "source": [
    "X_train, X_test, y_train, y_test = train_test_split(X, y, stratify=y, random_state = 1, test_size = 0.2) # разделяем на трейн и тест"
   ]
  },
  {
   "cell_type": "code",
   "execution_count": 13,
   "id": "2da962bb-3083-4848-8489-b62bd80d703a",
   "metadata": {},
   "outputs": [],
   "source": [
    "dt = tree.DecisionTreeClassifier(\n",
    "    max_depth=4,\n",
    "    random_state=42\n",
    ") # задаем решающее дерево, с максимальной глубиной 4"
   ]
  },
  {
   "cell_type": "code",
   "execution_count": 14,
   "id": "199cd24e-67df-4a5e-9eb4-2f29ce1ac0b1",
   "metadata": {},
   "outputs": [
    {
     "name": "stdout",
     "output_type": "stream",
     "text": [
      "0.9704433497536946\n"
     ]
    }
   ],
   "source": [
    "dt.fit(X_train, y_train) # обучаем дерево\n",
    "y_test_pred = dt.predict(X_test) # предсказывает результат на тестовых данных\n",
    "print(metrics.accuracy_score(y_test, y_test_pred)) # находим точность предсказания"
   ]
  },
  {
   "cell_type": "code",
   "execution_count": null,
   "id": "5d373e42-2f31-4d41-bdd6-3721f628e0c9",
   "metadata": {},
   "outputs": [],
   "source": []
  }
 ],
 "metadata": {
  "kernelspec": {
   "display_name": "Python 3 (ipykernel)",
   "language": "python",
   "name": "python3"
  },
  "language_info": {
   "codemirror_mode": {
    "name": "ipython",
    "version": 3
   },
   "file_extension": ".py",
   "mimetype": "text/x-python",
   "name": "python",
   "nbconvert_exporter": "python",
   "pygments_lexer": "ipython3",
   "version": "3.11.7"
  }
 },
 "nbformat": 4,
 "nbformat_minor": 5
}
